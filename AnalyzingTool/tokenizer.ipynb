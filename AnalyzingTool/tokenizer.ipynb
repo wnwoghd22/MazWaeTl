{
  "nbformat": 4,
  "nbformat_minor": 0,
  "metadata": {
    "colab": {
      "provenance": [],
      "gpuType": "T4"
    },
    "kernelspec": {
      "name": "python3",
      "display_name": "Python 3"
    },
    "language_info": {
      "name": "python"
    },
    "accelerator": "GPU"
  },
  "cells": [
    {
      "cell_type": "code",
      "execution_count": 1,
      "metadata": {
        "colab": {
          "base_uri": "https://localhost:8080/"
        },
        "id": "Ih_Fw-UikEly",
        "outputId": "4b95a18e-36f3-4d11-b47b-43452da7e872"
      },
      "outputs": [
        {
          "output_type": "stream",
          "name": "stdout",
          "text": [
            "\u001b[?25l     \u001b[90m━━━━━━━━━━━━━━━━━━━━━━━━━━━━━━━━━━━━━━━━\u001b[0m \u001b[32m0.0/1.3 MB\u001b[0m \u001b[31m?\u001b[0m eta \u001b[36m-:--:--\u001b[0m\r\u001b[2K     \u001b[91m━━━━━━━\u001b[0m\u001b[90m╺\u001b[0m\u001b[90m━━━━━━━━━━━━━━━━━━━━━━━━━━━━━━━━\u001b[0m \u001b[32m0.2/1.3 MB\u001b[0m \u001b[31m7.2 MB/s\u001b[0m eta \u001b[36m0:00:01\u001b[0m\r\u001b[2K     \u001b[91m━━━━━━━━━━━━━━━━━━━━━━\u001b[0m\u001b[90m╺\u001b[0m\u001b[90m━━━━━━━━━━━━━━━━━\u001b[0m \u001b[32m0.7/1.3 MB\u001b[0m \u001b[31m10.6 MB/s\u001b[0m eta \u001b[36m0:00:01\u001b[0m\r\u001b[2K     \u001b[91m━━━━━━━━━━━━━━━━━━━━━━━━━━━━━━━━━━━━━━━\u001b[0m\u001b[91m╸\u001b[0m \u001b[32m1.3/1.3 MB\u001b[0m \u001b[31m12.9 MB/s\u001b[0m eta \u001b[36m0:00:01\u001b[0m\r\u001b[2K     \u001b[90m━━━━━━━━━━━━━━━━━━━━━━━━━━━━━━━━━━━━━━━━\u001b[0m \u001b[32m1.3/1.3 MB\u001b[0m \u001b[31m11.5 MB/s\u001b[0m eta \u001b[36m0:00:00\u001b[0m\n",
            "\u001b[?25h"
          ]
        }
      ],
      "source": [
        "!pip install -U -q sentencepiece"
      ]
    },
    {
      "cell_type": "code",
      "source": [
        "import tensorflow as tf\n",
        "import pandas as pd\n",
        "import sentencepiece as spm\n",
        "import json"
      ],
      "metadata": {
        "id": "WDl-LHlBkuiA"
      },
      "execution_count": 2,
      "outputs": []
    },
    {
      "cell_type": "code",
      "source": [
        "with open('answer_sentences.json', 'r', encoding='utf-8') as file:\n",
        "  json_data = json.load(file)"
      ],
      "metadata": {
        "id": "f6TBnJxYkyiY"
      },
      "execution_count": 3,
      "outputs": []
    },
    {
      "cell_type": "code",
      "source": [
        "print(json_data[:10])"
      ],
      "metadata": {
        "id": "UgK6_uo-m1iy"
      },
      "execution_count": null,
      "outputs": []
    },
    {
      "cell_type": "code",
      "source": [
        "with open('nsmc.txt', 'w', encoding='utf-8') as f:\n",
        "  for line in json_data:\n",
        "    try:\n",
        "      f.write(line + '\\n')\n",
        "    except:\n",
        "      print('error:', line)"
      ],
      "metadata": {
        "id": "KNP0gQadmpt7"
      },
      "execution_count": 5,
      "outputs": []
    },
    {
      "cell_type": "code",
      "source": [
        "with open('./nsmc.txt', 'r', encoding='utf-8') as f:\n",
        "  nsmc_text = f.read().split('\\n')\n",
        "\n",
        "  print(nsmc_text[0])"
      ],
      "metadata": {
        "colab": {
          "base_uri": "https://localhost:8080/"
        },
        "id": "n2H2JwcwnBx8",
        "outputId": "9856f717-54b5-4174-930b-2e752c5ee84c"
      },
      "execution_count": 6,
      "outputs": [
        {
          "output_type": "stream",
          "name": "stdout",
          "text": [
            "상품: 맥북프로레티나 박스 + 남은 풍선 + 핸드 펌프\n"
          ]
        }
      ]
    },
    {
      "cell_type": "code",
      "source": [
        "input_file = './nsmc.txt'\n",
        "vocab_size = 30000\n",
        "prefix = 'nsmc'\n",
        "\n",
        "cmd = f'--input={input_file} --model_prefix={prefix} vocab_size={vocab_size}'\n",
        "cmd"
      ],
      "metadata": {
        "colab": {
          "base_uri": "https://localhost:8080/",
          "height": 35
        },
        "id": "SNj9Qe6UnaVE",
        "outputId": "8a034b65-c095-4710-b25a-28533953ef2c"
      },
      "execution_count": 10,
      "outputs": [
        {
          "output_type": "execute_result",
          "data": {
            "text/plain": [
              "'--input=./nsmc.txt --model_prefix=nsmc vocab_size=30000'"
            ],
            "application/vnd.google.colaboratory.intrinsic+json": {
              "type": "string"
            }
          },
          "metadata": {},
          "execution_count": 10
        }
      ]
    },
    {
      "cell_type": "code",
      "source": [
        "spm.SentencePieceTrainer.Train(cmd)"
      ],
      "metadata": {
        "id": "Ozk0c8BMn0Qc"
      },
      "execution_count": 11,
      "outputs": []
    },
    {
      "cell_type": "code",
      "source": [
        "sp = spm.SentencePieceProcessor()\n",
        "sp.Load(f'{prefix}.model')"
      ],
      "metadata": {
        "colab": {
          "base_uri": "https://localhost:8080/"
        },
        "id": "9t8-g5esn7fo",
        "outputId": "1a878882-7cf8-40f9-b180-912769d8c6c7"
      },
      "execution_count": 12,
      "outputs": [
        {
          "output_type": "execute_result",
          "data": {
            "text/plain": [
              "True"
            ]
          },
          "metadata": {},
          "execution_count": 12
        }
      ]
    },
    {
      "cell_type": "code",
      "source": [
        "len(sp)"
      ],
      "metadata": {
        "colab": {
          "base_uri": "https://localhost:8080/"
        },
        "id": "3c54r97NqIND",
        "outputId": "9484b7c0-7070-4249-e9ac-e84a8308f6f5"
      },
      "execution_count": 14,
      "outputs": [
        {
          "output_type": "execute_result",
          "data": {
            "text/plain": [
              "30000"
            ]
          },
          "metadata": {},
          "execution_count": 14
        }
      ]
    },
    {
      "cell_type": "code",
      "source": [
        "for i in range(10):\n",
        "    word = sp.DecodePieces([i])\n",
        "    print(word)"
      ],
      "metadata": {
        "colab": {
          "base_uri": "https://localhost:8080/"
        },
        "id": "yqpJg7x4qKoq",
        "outputId": "d2fa6bf4-7b1b-45da-d9e9-da53fbf3b6e9"
      },
      "execution_count": 17,
      "outputs": [
        {
          "output_type": "stream",
          "name": "stdout",
          "text": [
            " ⁇ \n",
            "\n",
            "\n",
            ".\n",
            ",\n",
            "\n",
            "을\n",
            "를\n",
            "1\n",
            "의\n"
          ]
        }
      ]
    }
  ]
}